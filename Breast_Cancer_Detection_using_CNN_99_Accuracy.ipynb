{
  "nbformat": 4,
  "nbformat_minor": 0,
  "metadata": {
    "colab": {
      "name": "Breast Cancer Detection using CNN @ 99% Accuracy.ipynb",
      "provenance": []
    },
    "kernelspec": {
      "name": "python3",
      "display_name": "Python 3"
    }
  },
  "cells": [
    {
      "cell_type": "code",
      "metadata": {
        "id": "sEntkrvkcWBW"
      },
      "source": [
        "import tensorflow as tf\r\n",
        "from tensorflow.keras import Sequential\r\n",
        "from tensorflow.keras.layers import Conv1D, MaxPool1D,Flatten,Dense,Dropout,BatchNormalization\r\n",
        "from tensorflow.keras.optimizers import Adam"
      ],
      "execution_count": 1,
      "outputs": []
    },
    {
      "cell_type": "code",
      "metadata": {
        "id": "787aRNbccajo"
      },
      "source": [
        "import numpy as np\r\n",
        "import pandas as pd\r\n",
        "import matplotlib.pyplot as plt\r\n",
        "import seaborn as sns"
      ],
      "execution_count": 2,
      "outputs": []
    },
    {
      "cell_type": "code",
      "metadata": {
        "id": "LkhOylVGciKo"
      },
      "source": [
        "from sklearn import datasets,metrics\r\n",
        "from sklearn.model_selection import train_test_split\r\n",
        "from sklearn.preprocessing import StandardScaler"
      ],
      "execution_count": 3,
      "outputs": []
    },
    {
      "cell_type": "markdown",
      "metadata": {
        "id": "t1Bh5Adwc1Im"
      },
      "source": [
        "**Loading the Built-in Sklearn Breast Cancer** **Dataset**"
      ]
    },
    {
      "cell_type": "code",
      "metadata": {
        "id": "AxX3a-W8dL77"
      },
      "source": [
        "cancerData = datasets.load_breast_cancer()"
      ],
      "execution_count": 7,
      "outputs": []
    },
    {
      "cell_type": "code",
      "metadata": {
        "colab": {
          "base_uri": "https://localhost:8080/",
          "height": 249
        },
        "id": "pl-AthsGdS4e",
        "outputId": "3b17eb28-934a-44b6-a27f-183f4541bfd5"
      },
      "source": [
        "X = pd.DataFrame(data = cancerData.data, columns=cancerData.feature_names )\r\n",
        "X.head()"
      ],
      "execution_count": 8,
      "outputs": [
        {
          "output_type": "execute_result",
          "data": {
            "text/html": [
              "<div>\n",
              "<style scoped>\n",
              "    .dataframe tbody tr th:only-of-type {\n",
              "        vertical-align: middle;\n",
              "    }\n",
              "\n",
              "    .dataframe tbody tr th {\n",
              "        vertical-align: top;\n",
              "    }\n",
              "\n",
              "    .dataframe thead th {\n",
              "        text-align: right;\n",
              "    }\n",
              "</style>\n",
              "<table border=\"1\" class=\"dataframe\">\n",
              "  <thead>\n",
              "    <tr style=\"text-align: right;\">\n",
              "      <th></th>\n",
              "      <th>mean radius</th>\n",
              "      <th>mean texture</th>\n",
              "      <th>mean perimeter</th>\n",
              "      <th>mean area</th>\n",
              "      <th>mean smoothness</th>\n",
              "      <th>mean compactness</th>\n",
              "      <th>mean concavity</th>\n",
              "      <th>mean concave points</th>\n",
              "      <th>mean symmetry</th>\n",
              "      <th>mean fractal dimension</th>\n",
              "      <th>radius error</th>\n",
              "      <th>texture error</th>\n",
              "      <th>perimeter error</th>\n",
              "      <th>area error</th>\n",
              "      <th>smoothness error</th>\n",
              "      <th>compactness error</th>\n",
              "      <th>concavity error</th>\n",
              "      <th>concave points error</th>\n",
              "      <th>symmetry error</th>\n",
              "      <th>fractal dimension error</th>\n",
              "      <th>worst radius</th>\n",
              "      <th>worst texture</th>\n",
              "      <th>worst perimeter</th>\n",
              "      <th>worst area</th>\n",
              "      <th>worst smoothness</th>\n",
              "      <th>worst compactness</th>\n",
              "      <th>worst concavity</th>\n",
              "      <th>worst concave points</th>\n",
              "      <th>worst symmetry</th>\n",
              "      <th>worst fractal dimension</th>\n",
              "    </tr>\n",
              "  </thead>\n",
              "  <tbody>\n",
              "    <tr>\n",
              "      <th>0</th>\n",
              "      <td>17.99</td>\n",
              "      <td>10.38</td>\n",
              "      <td>122.80</td>\n",
              "      <td>1001.0</td>\n",
              "      <td>0.11840</td>\n",
              "      <td>0.27760</td>\n",
              "      <td>0.3001</td>\n",
              "      <td>0.14710</td>\n",
              "      <td>0.2419</td>\n",
              "      <td>0.07871</td>\n",
              "      <td>1.0950</td>\n",
              "      <td>0.9053</td>\n",
              "      <td>8.589</td>\n",
              "      <td>153.40</td>\n",
              "      <td>0.006399</td>\n",
              "      <td>0.04904</td>\n",
              "      <td>0.05373</td>\n",
              "      <td>0.01587</td>\n",
              "      <td>0.03003</td>\n",
              "      <td>0.006193</td>\n",
              "      <td>25.38</td>\n",
              "      <td>17.33</td>\n",
              "      <td>184.60</td>\n",
              "      <td>2019.0</td>\n",
              "      <td>0.1622</td>\n",
              "      <td>0.6656</td>\n",
              "      <td>0.7119</td>\n",
              "      <td>0.2654</td>\n",
              "      <td>0.4601</td>\n",
              "      <td>0.11890</td>\n",
              "    </tr>\n",
              "    <tr>\n",
              "      <th>1</th>\n",
              "      <td>20.57</td>\n",
              "      <td>17.77</td>\n",
              "      <td>132.90</td>\n",
              "      <td>1326.0</td>\n",
              "      <td>0.08474</td>\n",
              "      <td>0.07864</td>\n",
              "      <td>0.0869</td>\n",
              "      <td>0.07017</td>\n",
              "      <td>0.1812</td>\n",
              "      <td>0.05667</td>\n",
              "      <td>0.5435</td>\n",
              "      <td>0.7339</td>\n",
              "      <td>3.398</td>\n",
              "      <td>74.08</td>\n",
              "      <td>0.005225</td>\n",
              "      <td>0.01308</td>\n",
              "      <td>0.01860</td>\n",
              "      <td>0.01340</td>\n",
              "      <td>0.01389</td>\n",
              "      <td>0.003532</td>\n",
              "      <td>24.99</td>\n",
              "      <td>23.41</td>\n",
              "      <td>158.80</td>\n",
              "      <td>1956.0</td>\n",
              "      <td>0.1238</td>\n",
              "      <td>0.1866</td>\n",
              "      <td>0.2416</td>\n",
              "      <td>0.1860</td>\n",
              "      <td>0.2750</td>\n",
              "      <td>0.08902</td>\n",
              "    </tr>\n",
              "    <tr>\n",
              "      <th>2</th>\n",
              "      <td>19.69</td>\n",
              "      <td>21.25</td>\n",
              "      <td>130.00</td>\n",
              "      <td>1203.0</td>\n",
              "      <td>0.10960</td>\n",
              "      <td>0.15990</td>\n",
              "      <td>0.1974</td>\n",
              "      <td>0.12790</td>\n",
              "      <td>0.2069</td>\n",
              "      <td>0.05999</td>\n",
              "      <td>0.7456</td>\n",
              "      <td>0.7869</td>\n",
              "      <td>4.585</td>\n",
              "      <td>94.03</td>\n",
              "      <td>0.006150</td>\n",
              "      <td>0.04006</td>\n",
              "      <td>0.03832</td>\n",
              "      <td>0.02058</td>\n",
              "      <td>0.02250</td>\n",
              "      <td>0.004571</td>\n",
              "      <td>23.57</td>\n",
              "      <td>25.53</td>\n",
              "      <td>152.50</td>\n",
              "      <td>1709.0</td>\n",
              "      <td>0.1444</td>\n",
              "      <td>0.4245</td>\n",
              "      <td>0.4504</td>\n",
              "      <td>0.2430</td>\n",
              "      <td>0.3613</td>\n",
              "      <td>0.08758</td>\n",
              "    </tr>\n",
              "    <tr>\n",
              "      <th>3</th>\n",
              "      <td>11.42</td>\n",
              "      <td>20.38</td>\n",
              "      <td>77.58</td>\n",
              "      <td>386.1</td>\n",
              "      <td>0.14250</td>\n",
              "      <td>0.28390</td>\n",
              "      <td>0.2414</td>\n",
              "      <td>0.10520</td>\n",
              "      <td>0.2597</td>\n",
              "      <td>0.09744</td>\n",
              "      <td>0.4956</td>\n",
              "      <td>1.1560</td>\n",
              "      <td>3.445</td>\n",
              "      <td>27.23</td>\n",
              "      <td>0.009110</td>\n",
              "      <td>0.07458</td>\n",
              "      <td>0.05661</td>\n",
              "      <td>0.01867</td>\n",
              "      <td>0.05963</td>\n",
              "      <td>0.009208</td>\n",
              "      <td>14.91</td>\n",
              "      <td>26.50</td>\n",
              "      <td>98.87</td>\n",
              "      <td>567.7</td>\n",
              "      <td>0.2098</td>\n",
              "      <td>0.8663</td>\n",
              "      <td>0.6869</td>\n",
              "      <td>0.2575</td>\n",
              "      <td>0.6638</td>\n",
              "      <td>0.17300</td>\n",
              "    </tr>\n",
              "    <tr>\n",
              "      <th>4</th>\n",
              "      <td>20.29</td>\n",
              "      <td>14.34</td>\n",
              "      <td>135.10</td>\n",
              "      <td>1297.0</td>\n",
              "      <td>0.10030</td>\n",
              "      <td>0.13280</td>\n",
              "      <td>0.1980</td>\n",
              "      <td>0.10430</td>\n",
              "      <td>0.1809</td>\n",
              "      <td>0.05883</td>\n",
              "      <td>0.7572</td>\n",
              "      <td>0.7813</td>\n",
              "      <td>5.438</td>\n",
              "      <td>94.44</td>\n",
              "      <td>0.011490</td>\n",
              "      <td>0.02461</td>\n",
              "      <td>0.05688</td>\n",
              "      <td>0.01885</td>\n",
              "      <td>0.01756</td>\n",
              "      <td>0.005115</td>\n",
              "      <td>22.54</td>\n",
              "      <td>16.67</td>\n",
              "      <td>152.20</td>\n",
              "      <td>1575.0</td>\n",
              "      <td>0.1374</td>\n",
              "      <td>0.2050</td>\n",
              "      <td>0.4000</td>\n",
              "      <td>0.1625</td>\n",
              "      <td>0.2364</td>\n",
              "      <td>0.07678</td>\n",
              "    </tr>\n",
              "  </tbody>\n",
              "</table>\n",
              "</div>"
            ],
            "text/plain": [
              "   mean radius  mean texture  ...  worst symmetry  worst fractal dimension\n",
              "0        17.99         10.38  ...          0.4601                  0.11890\n",
              "1        20.57         17.77  ...          0.2750                  0.08902\n",
              "2        19.69         21.25  ...          0.3613                  0.08758\n",
              "3        11.42         20.38  ...          0.6638                  0.17300\n",
              "4        20.29         14.34  ...          0.2364                  0.07678\n",
              "\n",
              "[5 rows x 30 columns]"
            ]
          },
          "metadata": {
            "tags": []
          },
          "execution_count": 8
        }
      ]
    },
    {
      "cell_type": "code",
      "metadata": {
        "id": "CLRcj4kbdVlI"
      },
      "source": [
        "y = cancerData.target"
      ],
      "execution_count": 9,
      "outputs": []
    },
    {
      "cell_type": "code",
      "metadata": {
        "colab": {
          "base_uri": "https://localhost:8080/"
        },
        "id": "myIC2t-UdfoR",
        "outputId": "e7bcfd5b-5bdf-492d-fb3b-8a11e0787bd0"
      },
      "source": [
        "X.shape"
      ],
      "execution_count": 10,
      "outputs": [
        {
          "output_type": "execute_result",
          "data": {
            "text/plain": [
              "(569, 30)"
            ]
          },
          "metadata": {
            "tags": []
          },
          "execution_count": 10
        }
      ]
    },
    {
      "cell_type": "markdown",
      "metadata": {
        "id": "eVUse2eVdmpX"
      },
      "source": [
        "**Splitting into Train and Test datasets**"
      ]
    },
    {
      "cell_type": "code",
      "metadata": {
        "id": "BKPLyotSdq2W"
      },
      "source": [
        "X_train,X_test,y_train,y_test= train_test_split(X,y,test_size=0.1,stratify=y)"
      ],
      "execution_count": 11,
      "outputs": []
    },
    {
      "cell_type": "code",
      "metadata": {
        "colab": {
          "base_uri": "https://localhost:8080/"
        },
        "id": "SIm2VYxsdwjG",
        "outputId": "9baf5463-b60d-499e-f922-4a2a251e9666"
      },
      "source": [
        "X_train.shape"
      ],
      "execution_count": 12,
      "outputs": [
        {
          "output_type": "execute_result",
          "data": {
            "text/plain": [
              "(512, 30)"
            ]
          },
          "metadata": {
            "tags": []
          },
          "execution_count": 12
        }
      ]
    },
    {
      "cell_type": "code",
      "metadata": {
        "colab": {
          "base_uri": "https://localhost:8080/"
        },
        "id": "fSolfxgwd3-l",
        "outputId": "209cd812-b510-49cb-c94d-bb53ccf9b743"
      },
      "source": [
        "y_test.shape"
      ],
      "execution_count": 13,
      "outputs": [
        {
          "output_type": "execute_result",
          "data": {
            "text/plain": [
              "(57,)"
            ]
          },
          "metadata": {
            "tags": []
          },
          "execution_count": 13
        }
      ]
    },
    {
      "cell_type": "markdown",
      "metadata": {
        "id": "KMrkK2rZd9by"
      },
      "source": [
        "**Applying StandardScaler()**"
      ]
    },
    {
      "cell_type": "code",
      "metadata": {
        "id": "j3pNrgeVd6KP"
      },
      "source": [
        "scaler = StandardScaler()"
      ],
      "execution_count": 14,
      "outputs": []
    },
    {
      "cell_type": "code",
      "metadata": {
        "id": "5VbzNkpbeGhQ"
      },
      "source": [
        "X_train = scaler.fit_transform(X_train)\r\n",
        "X_test = scaler.transform(X_test)"
      ],
      "execution_count": 15,
      "outputs": []
    },
    {
      "cell_type": "markdown",
      "metadata": {
        "id": "Fj8di81beLd8"
      },
      "source": [
        "**Reshaping the dataset to 3-D to pass it through CNN**"
      ]
    },
    {
      "cell_type": "code",
      "metadata": {
        "id": "PZWSXl9peI3o"
      },
      "source": [
        "X_train = X_train.reshape(512,30,1)\r\n",
        "X_test = X_test.reshape(57,30,1)"
      ],
      "execution_count": 16,
      "outputs": []
    },
    {
      "cell_type": "markdown",
      "metadata": {
        "id": "39VIbLkQeTO6"
      },
      "source": [
        "**Preparing the Model**"
      ]
    },
    {
      "cell_type": "code",
      "metadata": {
        "id": "1-IwDWe5eQIv"
      },
      "source": [
        "model = Sequential()\r\n",
        "model.add(Conv1D(filters=16,kernel_size=2,activation='relu',input_shape=(30,1)))\r\n",
        "model.add(BatchNormalization())\r\n",
        "model.add(Dropout(0.2))\r\n",
        "\r\n",
        "model.add(Conv1D(32,2,activation='relu'))\r\n",
        "model.add(BatchNormalization())\r\n",
        "model.add(Dropout(0.2))\r\n",
        "\r\n",
        "model.add(Flatten())\r\n",
        "model.add(Dense(32,activation='relu'))\r\n",
        "model.add(Dropout(0.2))\r\n",
        "\r\n",
        "model.add(Dense(1,activation='sigmoid'))"
      ],
      "execution_count": 17,
      "outputs": []
    },
    {
      "cell_type": "code",
      "metadata": {
        "colab": {
          "base_uri": "https://localhost:8080/"
        },
        "id": "N06_OJjCeY7z",
        "outputId": "ac90acc2-d3db-4be2-9e2b-b0565c3d2c22"
      },
      "source": [
        "model.summary()"
      ],
      "execution_count": 18,
      "outputs": [
        {
          "output_type": "stream",
          "text": [
            "Model: \"sequential\"\n",
            "_________________________________________________________________\n",
            "Layer (type)                 Output Shape              Param #   \n",
            "=================================================================\n",
            "conv1d (Conv1D)              (None, 29, 16)            48        \n",
            "_________________________________________________________________\n",
            "batch_normalization (BatchNo (None, 29, 16)            64        \n",
            "_________________________________________________________________\n",
            "dropout (Dropout)            (None, 29, 16)            0         \n",
            "_________________________________________________________________\n",
            "conv1d_1 (Conv1D)            (None, 28, 32)            1056      \n",
            "_________________________________________________________________\n",
            "batch_normalization_1 (Batch (None, 28, 32)            128       \n",
            "_________________________________________________________________\n",
            "dropout_1 (Dropout)          (None, 28, 32)            0         \n",
            "_________________________________________________________________\n",
            "flatten (Flatten)            (None, 896)               0         \n",
            "_________________________________________________________________\n",
            "dense (Dense)                (None, 32)                28704     \n",
            "_________________________________________________________________\n",
            "dropout_2 (Dropout)          (None, 32)                0         \n",
            "_________________________________________________________________\n",
            "dense_1 (Dense)              (None, 1)                 33        \n",
            "=================================================================\n",
            "Total params: 30,033\n",
            "Trainable params: 29,937\n",
            "Non-trainable params: 96\n",
            "_________________________________________________________________\n"
          ],
          "name": "stdout"
        }
      ]
    },
    {
      "cell_type": "code",
      "metadata": {
        "id": "ZZ2K0Kenegbx"
      },
      "source": [
        "model.compile(optimizer=Adam(learning_rate=0.0001),loss='binary_crossentropy',metrics=['accuracy'])"
      ],
      "execution_count": 19,
      "outputs": []
    },
    {
      "cell_type": "code",
      "metadata": {
        "colab": {
          "base_uri": "https://localhost:8080/"
        },
        "id": "gYpmKM6Qekmo",
        "outputId": "9b4167ee-73fb-486c-bc61-190ed468030e"
      },
      "source": [
        "history = model.fit(X_train,y_train,epochs=35,verbose=1,validation_data=(X_test,y_test))"
      ],
      "execution_count": 20,
      "outputs": [
        {
          "output_type": "stream",
          "text": [
            "Epoch 1/35\n",
            "16/16 [==============================] - 2s 37ms/step - loss: 0.9378 - accuracy: 0.4876 - val_loss: 0.6142 - val_accuracy: 0.8947\n",
            "Epoch 2/35\n",
            "16/16 [==============================] - 0s 6ms/step - loss: 0.5500 - accuracy: 0.7330 - val_loss: 0.5345 - val_accuracy: 0.9474\n",
            "Epoch 3/35\n",
            "16/16 [==============================] - 0s 7ms/step - loss: 0.3529 - accuracy: 0.8392 - val_loss: 0.4669 - val_accuracy: 0.9123\n",
            "Epoch 4/35\n",
            "16/16 [==============================] - 0s 6ms/step - loss: 0.2927 - accuracy: 0.8703 - val_loss: 0.4157 - val_accuracy: 0.9123\n",
            "Epoch 5/35\n",
            "16/16 [==============================] - 0s 8ms/step - loss: 0.2633 - accuracy: 0.8951 - val_loss: 0.3752 - val_accuracy: 0.9123\n",
            "Epoch 6/35\n",
            "16/16 [==============================] - 0s 6ms/step - loss: 0.2088 - accuracy: 0.9340 - val_loss: 0.3413 - val_accuracy: 0.9123\n",
            "Epoch 7/35\n",
            "16/16 [==============================] - 0s 6ms/step - loss: 0.1895 - accuracy: 0.9122 - val_loss: 0.3140 - val_accuracy: 0.9123\n",
            "Epoch 8/35\n",
            "16/16 [==============================] - 0s 7ms/step - loss: 0.1577 - accuracy: 0.9317 - val_loss: 0.2919 - val_accuracy: 0.9123\n",
            "Epoch 9/35\n",
            "16/16 [==============================] - 0s 7ms/step - loss: 0.1708 - accuracy: 0.9302 - val_loss: 0.2737 - val_accuracy: 0.9123\n",
            "Epoch 10/35\n",
            "16/16 [==============================] - 0s 6ms/step - loss: 0.1348 - accuracy: 0.9468 - val_loss: 0.2589 - val_accuracy: 0.9123\n",
            "Epoch 11/35\n",
            "16/16 [==============================] - 0s 7ms/step - loss: 0.1386 - accuracy: 0.9480 - val_loss: 0.2472 - val_accuracy: 0.9123\n",
            "Epoch 12/35\n",
            "16/16 [==============================] - 0s 15ms/step - loss: 0.1161 - accuracy: 0.9611 - val_loss: 0.2357 - val_accuracy: 0.9123\n",
            "Epoch 13/35\n",
            "16/16 [==============================] - 0s 7ms/step - loss: 0.1045 - accuracy: 0.9554 - val_loss: 0.2259 - val_accuracy: 0.9123\n",
            "Epoch 14/35\n",
            "16/16 [==============================] - 0s 7ms/step - loss: 0.1153 - accuracy: 0.9563 - val_loss: 0.2151 - val_accuracy: 0.9123\n",
            "Epoch 15/35\n",
            "16/16 [==============================] - 0s 6ms/step - loss: 0.1190 - accuracy: 0.9568 - val_loss: 0.2044 - val_accuracy: 0.9123\n",
            "Epoch 16/35\n",
            "16/16 [==============================] - 0s 7ms/step - loss: 0.0779 - accuracy: 0.9768 - val_loss: 0.1961 - val_accuracy: 0.9123\n",
            "Epoch 17/35\n",
            "16/16 [==============================] - 0s 7ms/step - loss: 0.0954 - accuracy: 0.9669 - val_loss: 0.1870 - val_accuracy: 0.9123\n",
            "Epoch 18/35\n",
            "16/16 [==============================] - 0s 6ms/step - loss: 0.0998 - accuracy: 0.9666 - val_loss: 0.1805 - val_accuracy: 0.9123\n",
            "Epoch 19/35\n",
            "16/16 [==============================] - 0s 7ms/step - loss: 0.1143 - accuracy: 0.9636 - val_loss: 0.1752 - val_accuracy: 0.9123\n",
            "Epoch 20/35\n",
            "16/16 [==============================] - 0s 6ms/step - loss: 0.0948 - accuracy: 0.9670 - val_loss: 0.1701 - val_accuracy: 0.9298\n",
            "Epoch 21/35\n",
            "16/16 [==============================] - 0s 7ms/step - loss: 0.0956 - accuracy: 0.9632 - val_loss: 0.1638 - val_accuracy: 0.9474\n",
            "Epoch 22/35\n",
            "16/16 [==============================] - 0s 6ms/step - loss: 0.0753 - accuracy: 0.9729 - val_loss: 0.1614 - val_accuracy: 0.9474\n",
            "Epoch 23/35\n",
            "16/16 [==============================] - 0s 7ms/step - loss: 0.1202 - accuracy: 0.9510 - val_loss: 0.1589 - val_accuracy: 0.9474\n",
            "Epoch 24/35\n",
            "16/16 [==============================] - 0s 7ms/step - loss: 0.0909 - accuracy: 0.9726 - val_loss: 0.1543 - val_accuracy: 0.9474\n",
            "Epoch 25/35\n",
            "16/16 [==============================] - 0s 7ms/step - loss: 0.1075 - accuracy: 0.9619 - val_loss: 0.1506 - val_accuracy: 0.9474\n",
            "Epoch 26/35\n",
            "16/16 [==============================] - 0s 7ms/step - loss: 0.0743 - accuracy: 0.9733 - val_loss: 0.1461 - val_accuracy: 0.9474\n",
            "Epoch 27/35\n",
            "16/16 [==============================] - 0s 7ms/step - loss: 0.0796 - accuracy: 0.9650 - val_loss: 0.1426 - val_accuracy: 0.9649\n",
            "Epoch 28/35\n",
            "16/16 [==============================] - 0s 6ms/step - loss: 0.0856 - accuracy: 0.9771 - val_loss: 0.1410 - val_accuracy: 0.9825\n",
            "Epoch 29/35\n",
            "16/16 [==============================] - 0s 7ms/step - loss: 0.0905 - accuracy: 0.9716 - val_loss: 0.1404 - val_accuracy: 0.9825\n",
            "Epoch 30/35\n",
            "16/16 [==============================] - 0s 6ms/step - loss: 0.0752 - accuracy: 0.9655 - val_loss: 0.1423 - val_accuracy: 0.9825\n",
            "Epoch 31/35\n",
            "16/16 [==============================] - 0s 6ms/step - loss: 0.0580 - accuracy: 0.9773 - val_loss: 0.1439 - val_accuracy: 0.9825\n",
            "Epoch 32/35\n",
            "16/16 [==============================] - 0s 7ms/step - loss: 0.0730 - accuracy: 0.9697 - val_loss: 0.1436 - val_accuracy: 0.9825\n",
            "Epoch 33/35\n",
            "16/16 [==============================] - 0s 6ms/step - loss: 0.0648 - accuracy: 0.9773 - val_loss: 0.1434 - val_accuracy: 0.9825\n",
            "Epoch 34/35\n",
            "16/16 [==============================] - 0s 7ms/step - loss: 0.0591 - accuracy: 0.9793 - val_loss: 0.1440 - val_accuracy: 0.9825\n",
            "Epoch 35/35\n",
            "16/16 [==============================] - 0s 6ms/step - loss: 0.0717 - accuracy: 0.9696 - val_loss: 0.1444 - val_accuracy: 0.9825\n"
          ],
          "name": "stdout"
        }
      ]
    },
    {
      "cell_type": "markdown",
      "metadata": {
        "id": "Uo7wF-_9etqC"
      },
      "source": [
        "**Plots of Accuracy and Loss**"
      ]
    },
    {
      "cell_type": "code",
      "metadata": {
        "id": "RbioUc85enB-"
      },
      "source": [
        "def plotLearningCurve(history,epochs):\r\n",
        "  epochRange = range(1,epochs+1)\r\n",
        "  plt.plot(epochRange,history.history['accuracy'])\r\n",
        "  plt.plot(epochRange,history.history['val_accuracy'])\r\n",
        "  plt.title('Model Accuracy')\r\n",
        "  plt.xlabel('Epoch')\r\n",
        "  plt.ylabel('Accuracy')\r\n",
        "  plt.legend(['Train','Validation'],loc='upper left')\r\n",
        "  plt.show()\r\n",
        "\r\n",
        "  plt.plot(epochRange,history.history['loss'])\r\n",
        "  plt.plot(epochRange,history.history['val_loss'])\r\n",
        "  plt.title('Model Loss')\r\n",
        "  plt.xlabel('Epoch')\r\n",
        "  plt.ylabel('Loss')\r\n",
        "  plt.legend(['Train','Validation'],loc='upper left')\r\n",
        "  plt.show()"
      ],
      "execution_count": 21,
      "outputs": []
    },
    {
      "cell_type": "code",
      "metadata": {
        "colab": {
          "base_uri": "https://localhost:8080/",
          "height": 573
        },
        "id": "X06LfhGMex9Z",
        "outputId": "62b61a56-c33c-4f2c-be4e-122fdc8dd03a"
      },
      "source": [
        "plotLearningCurve(history,35)"
      ],
      "execution_count": 22,
      "outputs": [
        {
          "output_type": "display_data",
          "data": {
            "image/png": "[encoded data removed]",
            "text/plain": [
              "<Figure size 432x288 with 1 Axes>"
            ]
          },
          "metadata": {
            "tags": [],
            "needs_background": "light"
          }
        },
        {
          "output_type": "display_data",
          "data": {
            "image/png": "[encoded data removed]",
            "text/plain": [
              "<Figure size 432x288 with 1 Axes>"
            ]
          },
          "metadata": {
            "tags": [],
            "needs_background": "light"
          }
        }
      ]
    },
    {
      "cell_type": "code",
      "metadata": {
        "id": "Nm4hkO1we0RL"
      },
      "source": [
        ""
      ],
      "execution_count": null,
      "outputs": []
    }
  ]
}